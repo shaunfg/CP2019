{
 "cells": [
  {
   "cell_type": "markdown",
   "metadata": {},
   "source": [
    "# Neutrino Minimisation"
   ]
  },
  {
   "cell_type": "markdown",
   "metadata": {},
   "source": [
    "Import relevant packages to analyse the the neutrino data\n",
    "\n",
    "**pandas** is used extensively within the code for easier data maniupaltion and index counting. "
   ]
  },
  {
   "cell_type": "code",
   "execution_count": 5,
   "metadata": {},
   "outputs": [],
   "source": [
    "import pandas as pd\n",
    "import numpy as np\n",
    "import matplotlib.pyplot as plt\n",
    "import warnings\n",
    "from scipy.interpolate import lagrange,interp1d\n",
    "from numpy.polynomial.polynomial import Polynomial\n",
    "import random"
   ]
  },
  {
   "cell_type": "markdown",
   "metadata": {},
   "source": [
    "### 3. Data Exploration\n",
    "\n",
    "First, let's run the function to load the data in raw form..."
   ]
  },
  {
   "cell_type": "code",
   "execution_count": 10,
   "metadata": {},
   "outputs": [],
   "source": [
    "def read_data(filename):\n",
    "    # Reads data file into a dataframe\n",
    "    data = pd.read_csv(filename)\n",
    "    \n",
    "    # Splits first 200 and last 200 data points\n",
    "    df = data.iloc[:200].copy()\n",
    "    df['unoscillated_flux'] = data.iloc[201:].copy().reset_index(drop = True)\n",
    "    \n",
    "    # Rename columns\n",
    "    df.columns = [\"oscillated_rate\",\"unoscillated_rate\"]\n",
    "    \n",
    "    # Append column for energy bins\n",
    "    df[\"energy\"] = np.arange(0.025,10.025,0.05)\n",
    "    \n",
    "    # Force float type for all data points\n",
    "    df = df.astype(float)\n",
    "    return df"
   ]
  },
  {
   "cell_type": "markdown",
   "metadata": {},
   "source": [
    "...and split dataframe in numpy arrays to input them in the functions."
   ]
  },
  {
   "cell_type": "code",
   "execution_count": 33,
   "metadata": {},
   "outputs": [],
   "source": [
    "# Store data as a pandas dataframe\n",
    "data = read_data(\"data.txt\")\n",
    "\n",
    "# Guess Parameters\n",
    "del_m_square = 2.9e-3 # adjusted to fit code data better\n",
    "L = 295\n",
    "\n",
    "# Prepare lists to be used in calculations\n",
    "energies = np.array(data['energy'].tolist())\n",
    "thetas = np.arange(0,np.pi,0.002)\n",
    "oscillated = np.array(data[\"oscillated_rate\"].tolist()) # measured\n",
    "unoscillated = np.array(data[\"unoscillated_rate\"].tolist()) # simulated\n",
    "\n",
    "# Define tuple for more compact formatting\n",
    "ICs = (L,energies)"
   ]
  },
  {
   "cell_type": "markdown",
   "metadata": {},
   "source": [
    "Define functions for the survival probability, and for the predicted oscillated rates - found from multiplying the unsocillated rates and the probability"
   ]
  },
  {
   "cell_type": "code",
   "execution_count": 43,
   "metadata": {},
   "outputs": [],
   "source": [
    "def survival_probability(E,theta,del_mass_square,L):\n",
    "    coeff = 1.267 * del_mass_square * L  / E\n",
    "    P = 1 - np.sin(2*theta)**2 * np.sin(coeff) **2\n",
    "    return P"
   ]
  },
  {
   "cell_type": "code",
   "execution_count": 44,
   "metadata": {},
   "outputs": [],
   "source": [
    "def oscillated_prediction(thetas,masses,run_type):\n",
    "    # Calculate probabiliites of oscillation\n",
    "    \n",
    "    if run_type == \"mass\":\n",
    "        if isinstance(masses, np.ndarray) == True:\n",
    "            probs = [survival_probability(energies, thetas, masses[i], L) for i in\n",
    "                     range(len(masses))]\n",
    "        elif isinstance(masses, list) == True:\n",
    "            probs = [survival_probability(energies, thetas, masses[i], L) for i in\n",
    "                     range(len(masses))]\n",
    "        else:\n",
    "            probs = survival_probability(energies, thetas, masses, L)\n",
    "            \n",
    "    elif run_type == \"theta\":\n",
    "    \n",
    "        if isinstance(thetas,np.ndarray) == True:\n",
    "            probs = [survival_probability(energies,thetas[i],masses,L) for i in\n",
    "                     range(len(thetas))]\n",
    "        elif isinstance(thetas,list) == True:\n",
    "            probs = [survival_probability(energies,thetas[i],masses,L) for i in\n",
    "                     range(len(thetas))]\n",
    "        else:\n",
    "            probs = survival_probability(energies,thetas,masses,L)\n",
    "            \n",
    "    else:\n",
    "        print(run_type)\n",
    "    \n",
    "    # Obtain unoscillated rates from data grame\n",
    "    unosc_rates = data[\"unoscillated_rate\"].tolist()\n",
    "    \n",
    "    # Convert to numpy arrays\n",
    "    probs = np.array(probs)\n",
    "    unosc_rates = np.array(unosc_rates)\n",
    "    \n",
    "    # Find oscillated rates\n",
    "    osc_rates = probs * unosc_rates\n",
    "    return osc_rates"
   ]
  },
  {
   "cell_type": "markdown",
   "metadata": {},
   "source": [
    "For an initial condition of $\\theta$ = $\\frac{\\pi}{4}$, and $\\Delta m ^2 = 2.4 \\times 10^{-3}$, the predicted oscillated rates from the simulated unoscillated rates can be found:"
   ]
  },
  {
   "cell_type": "code",
   "execution_count": 35,
   "metadata": {},
   "outputs": [],
   "source": [
    "predicted = oscillated_prediction([np.pi/4],del_m_square,\"theta\")"
   ]
  },
  {
   "cell_type": "markdown",
   "metadata": {},
   "source": [
    "The original simulated unoscillated rates data can be seen as:"
   ]
  },
  {
   "cell_type": "code",
   "execution_count": 36,
   "metadata": {},
   "outputs": [
    {
     "data": {
      "text/plain": [
       "Text(0.5, 1.0, 'Unoscillated Rates')"
      ]
     },
     "execution_count": 36,
     "metadata": {},
     "output_type": "execute_result"
    },
    {
     "data": {
      "image/png": "[encoded data removed]",
      "text/plain": [
       "<Figure size 432x288 with 1 Axes>"
      ]
     },
     "metadata": {
      "needs_background": "light"
     },
     "output_type": "display_data"
    }
   ],
   "source": [
    "# Unoscillated simulated data \n",
    "plt.figure()\n",
    "plt.bar(energies,unoscillated,width = 0.05)\n",
    "plt.xlabel(\"Energies/GeV\")\n",
    "plt.ylabel(\"Rates\")\n",
    "plt.title(\"Unoscillated Rates\")"
   ]
  },
  {
   "cell_type": "markdown",
   "metadata": {},
   "source": [
    "After multiplying the probability with the unoscillated rates, the histogram distribution appears more spread out across different energies"
   ]
  },
  {
   "cell_type": "code",
   "execution_count": 50,
   "metadata": {},
   "outputs": [
    {
     "data": {
      "text/plain": [
       "[<matplotlib.lines.Line2D at 0xb21a813d0>]"
      ]
     },
     "execution_count": 50,
     "metadata": {},
     "output_type": "execute_result"
    },
    {
     "data": {
      "image/png": "[encoded data removed]",
      "text/plain": [
       "<Figure size 432x288 with 1 Axes>"
      ]
     },
     "metadata": {
      "needs_background": "light"
     },
     "output_type": "display_data"
    }
   ],
   "source": [
    "# Measured oscillated data\n",
    "plt.figure()\n",
    "plt.bar(energies,oscillated,width = 0.05,alpha = 0.5)\n",
    "plt.xlabel(\"Energies/GeV\")\n",
    "plt.ylabel(\"Rates\")\n",
    "plt.title(\"Measured Data after oscillation\")\n",
    "plt.plot(energies,predicted[0])"
   ]
  },
  {
   "cell_type": "markdown",
   "metadata": {},
   "source": [
    "Additionally, a simple histogram plot of the observed/measured oscillated rates can be seen as below"
   ]
  },
  {
   "cell_type": "code",
   "execution_count": 40,
   "metadata": {},
   "outputs": [
    {
     "data": {
      "text/plain": [
       "Text(0.5, 1.0, 'Histogram of observed oscillated rates')"
      ]
     },
     "execution_count": 40,
     "metadata": {},
     "output_type": "execute_result"
    },
    {
     "data": {
      "image/png": "[encoded data removed]",
      "text/plain": [
       "<Figure size 432x288 with 1 Axes>"
      ]
     },
     "metadata": {
      "needs_background": "light"
     },
     "output_type": "display_data"
    }
   ],
   "source": [
    "# Plot hist\n",
    "data[\"oscillated_rate\"].hist(bins = 50)\n",
    "plt.xlabel(\"Oscillated rates\")\n",
    "plt.ylabel(\"Frequency\")\n",
    "plt.title(\"Histogram of observed oscillated rates\")"
   ]
  },
  {
   "cell_type": "markdown",
   "metadata": {},
   "source": [
    "### 3.4 Parabolic Minimisation\n",
    "\n",
    "Let's start by first defining the NLL function and observing the plot to estimate where the minimum of the function lies"
   ]
  },
  {
   "cell_type": "code",
   "execution_count": 46,
   "metadata": {},
   "outputs": [],
   "source": [
    "def NLL(theta_values,del_m,data,run_type):\n",
    "#    print(theta_values)\n",
    "    rates = oscillated_prediction(thetas=theta_values,masses=del_m,run_type = run_type)\n",
    "    k = data\n",
    "    \n",
    "    NLL_value = []\n",
    "    \n",
    "    for j in range(len(rates)):\n",
    "        tmp = []\n",
    "        l  = rates[j]\n",
    "\n",
    "        for i in range(len(l)):\n",
    "            \n",
    "#            print(k)\n",
    "            if k[i] != 0:\n",
    "                value = l[i] - k[i] + k[i] * np.log10(k[i]/l[i])\n",
    "                tmp.append(value)\n",
    "            else:   \n",
    "                pass\n",
    "\n",
    "        NLL_value.append(sum(tmp))\n",
    "        \n",
    "    return NLL_value"
   ]
  },
  {
   "cell_type": "markdown",
   "metadata": {},
   "source": [
    "Plot of NLL against $\\theta$ for a fixed $\\Delta m ^2$, the minimum of this function lies at roughly $\\frac{\\pi}{4}$. Two minima \"bumps\" lie on either side at this point, and thus the function is symmetric at $\\frac{\\pi}{4}$"
   ]
  },
  {
   "cell_type": "code",
   "execution_count": 51,
   "metadata": {},
   "outputs": [
    {
     "data": {
      "text/plain": [
       "[<matplotlib.lines.Line2D at 0xb21db0fd0>]"
      ]
     },
     "execution_count": 51,
     "metadata": {},
     "output_type": "execute_result"
    },
    {
     "data": {
      "image/png": "[encoded data removed]",
      "text/plain": [
       "<Figure size 432x288 with 1 Axes>"
      ]
     },
     "metadata": {
      "needs_background": "light"
     },
     "output_type": "display_data"
    }
   ],
   "source": [
    "# Calculate NLL \n",
    "NLL_thetas = NLL(thetas,del_m_square,oscillated,\"theta\")\n",
    "\n",
    "# NLL against theta    \n",
    "plt.figure()\n",
    "plt.xlabel(\"Thetas\")\n",
    "plt.ylabel(\"NLL\")\n",
    "plt.plot(thetas, NLL_thetas)"
   ]
  },
  {
   "cell_type": "markdown",
   "metadata": {},
   "source": [
    "###### Minimising in theta\n",
    "Define a function for a parabolic minimser, that minimised the function in theta"
   ]
  },
  {
   "cell_type": "code",
   "execution_count": null,
   "metadata": {},
   "outputs": [],
   "source": [
    "def Parabolic_theta(measured_data,IC,guess_x):\n",
    "    \"\"\"\n",
    "    generate f(x) from a set of x values,append the new x_3 value\n",
    "    \n",
    "    Parabolic minimiser is based on the intergral of the lagrange polynomial. \n",
    "    \n",
    "    find f(x) with all four values\n",
    "    save the smallest three values\n",
    "    \"\"\"\n",
    "\n",
    "    def _find_next_point(x_list, y_list):\n",
    "        \"\"\"\n",
    "        accepts list of x and y, each of 3 elements\n",
    "        \"\"\"\n",
    "        x_0, x_1, x_2 = tuple(x_list)\n",
    "        y_0, y_1, y_2 = tuple(y_list)\n",
    "        num = (x_2 ** 2 - x_1 ** 2) * y_0 + (x_0 ** 2 - x_2 ** 2) * y_1 + (x_1 ** 2 - x_0 ** 2) * y_2\n",
    "        denom = (x_2 - x_1) * y_0 + (x_0 - x_2) * y_1 + (x_1 - x_0) * y_2\n",
    "        if denom != 0:\n",
    "            x_3 = 1 / 2 * num / denom\n",
    "        else:\n",
    "            # if denomiator is zero, pick mid point of x\n",
    "            x_list = [x for x in x_list if x <= x_list[np.argmax(x_list)]]\n",
    "            x_list = [x for x in x_list if x >= x_list[np.argmin(x_list)]]\n",
    "            x_3 = x_list[0]\n",
    "        return x_3\n",
    "    \n",
    "    IC = np.array(IC)\n",
    "    param = 'theta'\n",
    "\n",
    "    random_x = guess_x#[random.uniform(x_bottom,x_top) for x in range(3)]\n",
    "    random_y = NLL(np.array(random_x),IC,measured_data,param)\n",
    "\n",
    "    x_3 = _find_next_point(random_x,random_y)\n",
    "    x_3_last = x_3 +10\n",
    "    random_x.append(x_3)\n",
    "    random_y = NLL(np.array(random_x),IC,measured_data,param)\n",
    "    \n",
    "    end_count = 0\n",
    "    while end_count<2:  \n",
    "        \n",
    "        random_x.sort()        \n",
    "        # Find maximum f(x) values\n",
    "        max_idx = np.argmax(random_y)\n",
    "        # delete the smallest x value\n",
    "        del random_x[max_idx]       \n",
    "        \n",
    "        # Finds the new f(x) values\n",
    "        random_y = NLL(np.array(random_x),IC,measured_data,param)\n",
    "\n",
    "        # Finds the next minimum value\n",
    "        x_3_last = x_3\n",
    "        x_3 = _find_next_point(random_x, random_y)\n",
    "        \n",
    "        # Check for negative curvature\n",
    "        if NLL([x_3],IC,measured_data,param)[0] > all(random_y):\n",
    "            warnings.warn(\"Interval has positive & negative curvature\", Warning) \n",
    "            \n",
    "            random_x.append(x_3)\n",
    "\n",
    "            # finds 2 additional values from max and min of interval\n",
    "            x_values = np.linspace(min(random_x),max(random_x),4)[1:3]\n",
    "            x_values = np.linspace(min(random_x),max(random_x),4)[1:3]\n",
    "            x_values = np.append(x_values,random_x)\n",
    "            \n",
    "            # finds f(x)\n",
    "            y_values = list(NLL(x_values,IC,measured_data,param))\n",
    "            # Gets indices of a sorted array\n",
    "            indices = np.argsort(y_values)\n",
    "            \n",
    "            #picks the 4 smallest values to carry on with\n",
    "            random_x = [x_values[i] for i in indices][0:4]\n",
    "            random_y = [y_values[i] for i in indices][0:4]\n",
    "\n",
    "        else:\n",
    "            # Stores the next smallest value\n",
    "            random_x.append(x_3)\n",
    "            # Calculates the f(x) of four x values\n",
    "            print(measured_data)\n",
    "            random_y = NLL(np.array(random_x),IC,measured_data,param)\n",
    "        \n",
    "        if round(x_3,18) == round(x_3_last,18):\n",
    "            end_count +=1\n",
    "        else:\n",
    "            end_count = 0\n",
    "    \n",
    "    max_idx = np.argmax(random_y)\n",
    "    del random_x[max_idx]        \n",
    "    random_y = NLL(np.array(random_x),IC,measured_data,param)\n",
    "    return random_x,random_y"
   ]
  },
  {
   "cell_type": "code",
   "execution_count": null,
   "metadata": {},
   "outputs": [],
   "source": [
    "# Parabolic Minimise\n",
    "vals_x,vals_y = Parabolic_theta(oscillated,IC=del_m_square,guess_x = [0.2,0.5,1])\n",
    "\n",
    "# Minimums based on the parabolic minimiser\n",
    "min_theta_1D = min(vals_x)\n",
    "min_NLL_1D = min(vals_y)\n",
    "\n",
    "print(\"\\nMin Theta 1D Parabolic Minimiser = {:.4f}\".format(min_theta_1D))\n",
    "print(\"hello\")"
   ]
  },
  {
   "cell_type": "code",
   "execution_count": null,
   "metadata": {},
   "outputs": [],
   "source": [
    "\n",
    "    \n",
    "    # Calculate both errors, from +/- 0.5 and from difference in curvature\n",
    "    std_t_abs = Error_abs_addition(thetas,NLL_thetas,min_theta_1D,min_NLL_1D,0.7)\n",
    "    std_t_curv = Error_Curvature(unoscillated,oscillated,del_m_square,ICs,vals_x,vals_y)\n",
    "    \n",
    "    print(\"\\nMin Theta 1D Parabolic Minimiser = {:.4f} +/- {:.4f} or {:.4f}\".format(min_theta_1D,std_t_abs,std_t_curv))\n",
    "    \n",
    "    # Two dimensional minimisation\n",
    "    theta = np.array([np.pi / 4])\n",
    "    masses = np.linspace(1e-3,3e-3,1000)\n",
    "    NLL_masses = NLL(theta,masses,oscillated,run_type = \"mass\")\n",
    "    \n",
    "    #%%\n",
    "    # Obtain Univariate minimisation    \n",
    "    a,b,c,d = Univariate(theta,oscillated,[1e-3,2e-3,3e-3],guess_x =[0.2, 0.5, 1])\n",
    "    min_masses_2D,min_NLL_masses,min_thetas_2D,min_NLL_thetas = (a,b,c,d)\n",
    "    #%%\n",
    "    # Find Minimum values of masses and thetas\n",
    "    min_mass_2D = min(min_masses_2D)\n",
    "    min_theta_2D = min(min_thetas_2D)\n",
    "    \n",
    "    # Find errors on univariate\n",
    "    std_mass_2D = Error_abs_addition(masses,NLL_masses,min_mass_2D,min(min_NLL_masses),0.7)\n",
    "    std_mass_t = Error_Curvature(unoscillated,oscillated,min_mass_2D,ICs,min_thetas_2D,\n",
    "                          min_NLL_thetas)\n",
    "        \n",
    "    print(\"Minimum mass 2D Parabolic Minimiser = {:.7f} +/- {:.7f}\".format(min_mass_2D,std_mass_2D))\n",
    "    print(\"Minimum theta 2D Parabolic Minimiser = {:.4f} +/- {:.4f}\".format(min_theta_2D,std_mass_t))\n",
    "    print(\"Minimum theta 2D Parabolic Minimiser = {:.4f}\".format(min(min_NLL_thetas)))\n",
    "\n",
    "\n",
    "    #TODO: lambda combine parabolic functions?\n",
    "    #TODO: comment why do m first\n",
    "    #TODO: Comments on answer \n",
    "    #TODO: error curvature from a parabolic fit \n",
    "    #TODO: test minimisers\n",
    "    #TODO: Verify step sizes of temperature, \n",
    "    #TODO: Uncertainty on mass? on theta? from simulated annealing\n",
    "    #TODO: Convergence on Univariate, radius of accuracy. \n",
    "    #TODO: does the bump go away \n",
    "#%%\n",
    "    # Simulated Annealing test with Ackley function \n",
    "    Simulated_Annealing(Ackley,N = 2,T_start = 1000,T_step = 0.01,xy_step = [-5,5],\n",
    "                          guesses = [[-5,5],[-5,5]])\n",
    "#%%\n",
    "    # Simulated Annealing with NLL \n",
    "    Simulated_Annealing(NLL_simple,N = 2,T_start = 1000,T_step = 0.01,xy_step = [0.3,1e-3],\n",
    "                        guesses = [[0.5,0.8],[1e-3,3e-3]])\n",
    "    \n",
    "# ===================================PLOT======================================\n",
    "    \n",
    "\n",
    "#    plt.plot(samp_x,abc(samp_x))\n"
   ]
  },
  {
   "cell_type": "code",
   "execution_count": null,
   "metadata": {},
   "outputs": [],
   "source": []
  },
  {
   "cell_type": "code",
   "execution_count": null,
   "metadata": {},
   "outputs": [],
   "source": []
  }
 ],
 "metadata": {
  "kernelspec": {
   "display_name": "Python 3",
   "language": "python",
   "name": "python3"
  },
  "language_info": {
   "codemirror_mode": {
    "name": "ipython",
    "version": 3
   },
   "file_extension": ".py",
   "mimetype": "text/x-python",
   "name": "python",
   "nbconvert_exporter": "python",
   "pygments_lexer": "ipython3",
   "version": "3.7.4"
  }
 },
 "nbformat": 4,
 "nbformat_minor": 2
}
